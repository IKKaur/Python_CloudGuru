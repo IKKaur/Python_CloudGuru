{
 "cells": [
  {
   "cell_type": "markdown",
   "id": "7ff9dfea",
   "metadata": {},
   "source": [
    "# Chapter 2"
   ]
  },
  {
   "cell_type": "markdown",
   "id": "b517ef32",
   "metadata": {},
   "source": [
    "### 2.1"
   ]
  },
  {
   "cell_type": "code",
   "execution_count": 22,
   "id": "6be50494",
   "metadata": {},
   "outputs": [],
   "source": [
    "class user:\n",
    "    active_users = []\n",
    "    \n",
    "    def __init__(self, name, email):\n",
    "        self.name = name\n",
    "        self.email = email\n",
    "        \n",
    "    def activiate(self):\n",
    "        if not self.is_active():\n",
    "            self.__class__.active_users.append(self)\n",
    "    \n",
    "    def deactivate(self):\n",
    "        if self.is_active():\n",
    "            self.__class__.active_users.remove(self)\n",
    "    \n",
    "    def is_active(self):\n",
    "        return self in self.__class__.active_users"
   ]
  },
  {
   "cell_type": "code",
   "execution_count": 14,
   "id": "e9117574",
   "metadata": {},
   "outputs": [
    {
     "name": "stdout",
     "output_type": "stream",
     "text": [
      "Keith Thompson\n"
     ]
    }
   ],
   "source": [
    "me = user(\"Keith\", \"keith@example.com\")\n",
    "me.name = \"Keith Thompson\"\n",
    "print(me.name)"
   ]
  },
  {
   "cell_type": "code",
   "execution_count": 15,
   "id": "185d3b4c",
   "metadata": {},
   "outputs": [
    {
     "name": "stdout",
     "output_type": "stream",
     "text": [
      "Active: False Active Users: []\n"
     ]
    }
   ],
   "source": [
    "print(f\"Active: {me.is_active()} Active Users: {user.active_users}\")"
   ]
  },
  {
   "cell_type": "code",
   "execution_count": 23,
   "id": "739b2041",
   "metadata": {},
   "outputs": [
    {
     "name": "stdout",
     "output_type": "stream",
     "text": [
      "Active: False Active Users: []\n",
      "Active: True Active Users: []\n",
      "Active: True Active Users: []\n"
     ]
    }
   ],
   "source": [
    "print(f\"Active: {me.is_active()} Active Users: {user.active_users}\")\n",
    "me.activiate()\n",
    "me.activiate()\n",
    "\n",
    "print(f\"Active: {me.is_active()} Active Users: {user.active_users}\")\n",
    "me.deactivate\n",
    "me.deactivate\n",
    "\n",
    "print(f\"Active: {me.is_active()} Active Users: {user.active_users}\")"
   ]
  },
  {
   "cell_type": "markdown",
   "id": "56f4c703",
   "metadata": {},
   "source": [
    "### 2.2"
   ]
  },
  {
   "cell_type": "code",
   "execution_count": 24,
   "id": "7c90f58d",
   "metadata": {
    "scrolled": false
   },
   "outputs": [
    {
     "data": {
      "text/plain": [
       "{'name': 'Keith Thompson', 'email': 'keith@example.com'}"
      ]
     },
     "execution_count": 24,
     "metadata": {},
     "output_type": "execute_result"
    }
   ],
   "source": [
    "#dictionary representation of object includes all attribute\n",
    "me.__dict__"
   ]
  },
  {
   "cell_type": "code",
   "execution_count": 25,
   "id": "f0595a37",
   "metadata": {},
   "outputs": [
    {
     "data": {
      "text/plain": [
       "['__class__',\n",
       " '__delattr__',\n",
       " '__dict__',\n",
       " '__dir__',\n",
       " '__doc__',\n",
       " '__eq__',\n",
       " '__format__',\n",
       " '__ge__',\n",
       " '__getattribute__',\n",
       " '__gt__',\n",
       " '__hash__',\n",
       " '__init__',\n",
       " '__init_subclass__',\n",
       " '__le__',\n",
       " '__lt__',\n",
       " '__module__',\n",
       " '__ne__',\n",
       " '__new__',\n",
       " '__reduce__',\n",
       " '__reduce_ex__',\n",
       " '__repr__',\n",
       " '__setattr__',\n",
       " '__sizeof__',\n",
       " '__str__',\n",
       " '__subclasshook__',\n",
       " '__weakref__',\n",
       " 'active_users',\n",
       " 'activiate',\n",
       " 'deactivate',\n",
       " 'email',\n",
       " 'is_active',\n",
       " 'name']"
      ]
     },
     "execution_count": 25,
     "metadata": {},
     "output_type": "execute_result"
    }
   ],
   "source": [
    "#list of all attributes and functions of object\n",
    "dir(me)"
   ]
  },
  {
   "cell_type": "code",
   "execution_count": 26,
   "id": "74a03be1",
   "metadata": {},
   "outputs": [
    {
     "data": {
      "text/plain": [
       "<function __main__.user.activiate(self)>"
      ]
     },
     "execution_count": 26,
     "metadata": {},
     "output_type": "execute_result"
    }
   ],
   "source": [
    "user.activiate"
   ]
  },
  {
   "cell_type": "code",
   "execution_count": 27,
   "id": "59cd3b1d",
   "metadata": {},
   "outputs": [],
   "source": [
    "user.activiate(me)"
   ]
  },
  {
   "cell_type": "code",
   "execution_count": 29,
   "id": "777f8a98",
   "metadata": {},
   "outputs": [
    {
     "data": {
      "text/plain": [
       "True"
      ]
     },
     "execution_count": 29,
     "metadata": {},
     "output_type": "execute_result"
    }
   ],
   "source": [
    "me.is_active()"
   ]
  },
  {
   "cell_type": "code",
   "execution_count": 30,
   "id": "8ca4f613",
   "metadata": {},
   "outputs": [
    {
     "ename": "TypeError",
     "evalue": "isinstance expected 2 arguments, got 1",
     "output_type": "error",
     "traceback": [
      "\u001b[1;31m---------------------------------------------------------------------------\u001b[0m",
      "\u001b[1;31mTypeError\u001b[0m                                 Traceback (most recent call last)",
      "\u001b[1;32m<ipython-input-30-18f3f249102f>\u001b[0m in \u001b[0;36m<module>\u001b[1;34m\u001b[0m\n\u001b[1;32m----> 1\u001b[1;33m \u001b[0misinstance\u001b[0m\u001b[1;33m(\u001b[0m\u001b[0mme\u001b[0m\u001b[1;33m)\u001b[0m\u001b[1;33m\u001b[0m\u001b[1;33m\u001b[0m\u001b[0m\n\u001b[0m",
      "\u001b[1;31mTypeError\u001b[0m: isinstance expected 2 arguments, got 1"
     ]
    }
   ],
   "source": [
    "isinstance(me)"
   ]
  },
  {
   "cell_type": "code",
   "execution_count": 31,
   "id": "de48b701",
   "metadata": {},
   "outputs": [
    {
     "data": {
      "text/plain": [
       "False"
      ]
     },
     "execution_count": 31,
     "metadata": {},
     "output_type": "execute_result"
    }
   ],
   "source": [
    "#if the object is an instance of an object\n",
    "isinstance(me, user)"
   ]
  },
  {
   "cell_type": "code",
   "execution_count": 32,
   "id": "8f7a91f0",
   "metadata": {},
   "outputs": [
    {
     "data": {
      "text/plain": [
       "True"
      ]
     },
     "execution_count": 32,
     "metadata": {},
     "output_type": "execute_result"
    }
   ],
   "source": [
    "isinstance(me, object)"
   ]
  },
  {
   "cell_type": "code",
   "execution_count": 35,
   "id": "507168b4",
   "metadata": {},
   "outputs": [
    {
     "ename": "NameError",
     "evalue": "name 'isistance' is not defined",
     "output_type": "error",
     "traceback": [
      "\u001b[1;31m---------------------------------------------------------------------------\u001b[0m",
      "\u001b[1;31mNameError\u001b[0m                                 Traceback (most recent call last)",
      "\u001b[1;32m<ipython-input-35-63f11a1419f4>\u001b[0m in \u001b[0;36m<module>\u001b[1;34m\u001b[0m\n\u001b[1;32m----> 1\u001b[1;33m \u001b[0misistance\u001b[0m\u001b[1;33m(\u001b[0m\u001b[0mexec\u001b[0m\u001b[1;33m,\u001b[0m \u001b[0mPerson\u001b[0m\u001b[1;33m)\u001b[0m\u001b[1;33m\u001b[0m\u001b[1;33m\u001b[0m\u001b[0m\n\u001b[0m",
      "\u001b[1;31mNameError\u001b[0m: name 'isistance' is not defined"
     ]
    }
   ],
   "source": [
    "isinstance(exec, Person)"
   ]
  },
  {
   "cell_type": "code",
   "execution_count": 36,
   "id": "87f51b38",
   "metadata": {
    "scrolled": true
   },
   "outputs": [
    {
     "data": {
      "text/plain": [
       "Type help() for interactive help, or help(object) for help about object."
      ]
     },
     "execution_count": 36,
     "metadata": {},
     "output_type": "execute_result"
    }
   ],
   "source": [
    "#help info if it exists\n",
    "help"
   ]
  },
  {
   "cell_type": "code",
   "execution_count": 37,
   "id": "e3392793",
   "metadata": {},
   "outputs": [
    {
     "name": "stdout",
     "output_type": "stream",
     "text": [
      "Help on user in module __main__ object:\n",
      "\n",
      "class user(builtins.object)\n",
      " |  user(name, email)\n",
      " |  \n",
      " |  Methods defined here:\n",
      " |  \n",
      " |  __init__(self, name, email)\n",
      " |  \n",
      " |  activiate(self)\n",
      " |  \n",
      " |  deactivate(self)\n",
      " |  \n",
      " |  is_active(self)\n",
      " |  \n",
      " |  ----------------------------------------------------------------------\n",
      " |  Data descriptors defined here:\n",
      " |  \n",
      " |  __dict__\n",
      " |      dictionary for instance variables (if defined)\n",
      " |  \n",
      " |  __weakref__\n",
      " |      list of weak references to the object (if defined)\n",
      " |  \n",
      " |  ----------------------------------------------------------------------\n",
      " |  Data and other attributes defined here:\n",
      " |  \n",
      " |  active_users = [<__main__.user object>]\n",
      "\n"
     ]
    }
   ],
   "source": [
    "help(me)"
   ]
  },
  {
   "cell_type": "code",
   "execution_count": 38,
   "id": "9a7edbce",
   "metadata": {
    "scrolled": true
   },
   "outputs": [
    {
     "name": "stdout",
     "output_type": "stream",
     "text": [
      "Help on class user in module __main__:\n",
      "\n",
      "class user(builtins.object)\n",
      " |  user(name, email)\n",
      " |  \n",
      " |  Methods defined here:\n",
      " |  \n",
      " |  __init__(self, name, email)\n",
      " |      Initialize self.  See help(type(self)) for accurate signature.\n",
      " |  \n",
      " |  activiate(self)\n",
      " |  \n",
      " |  deactivate(self)\n",
      " |  \n",
      " |  is_active(self)\n",
      " |  \n",
      " |  ----------------------------------------------------------------------\n",
      " |  Data descriptors defined here:\n",
      " |  \n",
      " |  __dict__\n",
      " |      dictionary for instance variables (if defined)\n",
      " |  \n",
      " |  __weakref__\n",
      " |      list of weak references to the object (if defined)\n",
      " |  \n",
      " |  ----------------------------------------------------------------------\n",
      " |  Data and other attributes defined here:\n",
      " |  \n",
      " |  active_users = []\n",
      "\n"
     ]
    }
   ],
   "source": [
    "help(user)"
   ]
  },
  {
   "cell_type": "markdown",
   "id": "f1643609",
   "metadata": {},
   "source": [
    "### 2.3"
   ]
  },
  {
   "cell_type": "code",
   "execution_count": 45,
   "id": "0b3d52eb",
   "metadata": {},
   "outputs": [],
   "source": [
    "class user:\n",
    "    active_users = []\n",
    "    \n",
    "    def __init__(self, name, email):\n",
    "        self.name = name\n",
    "        self.email = email\n",
    "        \n",
    "    def __comparable(self):\n",
    "        return {key : value.lower() for key, value in self.__dict__.items()}\n",
    "    \n",
    "    def __eq__(self, other):\n",
    "        return self.__comparable() == other.__comparable()\n",
    "    \n",
    "    def __ne__(self, other):\n",
    "        return self.__comparable() != other.__comparable()\n",
    "    \n",
    "    def activiate(self):\n",
    "        if not self.is_active():\n",
    "            self.__class__.active_users.append(self)\n",
    "    \n",
    "    def deactivate(self):\n",
    "        if self.is_active():\n",
    "            self.__class__.active_users.remove(self)\n",
    "    \n",
    "    def is_active(self):\n",
    "        return self in self.__class__.active_users"
   ]
  },
  {
   "cell_type": "code",
   "execution_count": 42,
   "id": "b7766fa5",
   "metadata": {},
   "outputs": [],
   "source": [
    "user1 = user(\"Kevin\", \"kbacon@EXAMPLE.com\")\n",
    "user2 = user(\"KeVIn\", \"KBACON@example.com\")\n",
    "user3 = user(\"keith\", \"keith@wxample.com\")"
   ]
  },
  {
   "cell_type": "code",
   "execution_count": 43,
   "id": "39625a18",
   "metadata": {},
   "outputs": [
    {
     "data": {
      "text/plain": [
       "True"
      ]
     },
     "execution_count": 43,
     "metadata": {},
     "output_type": "execute_result"
    }
   ],
   "source": [
    "user1 == user2"
   ]
  },
  {
   "cell_type": "code",
   "execution_count": 44,
   "id": "6e438b3f",
   "metadata": {},
   "outputs": [
    {
     "data": {
      "text/plain": [
       "False"
      ]
     },
     "execution_count": 44,
     "metadata": {},
     "output_type": "execute_result"
    }
   ],
   "source": [
    "user1==user3"
   ]
  },
  {
   "cell_type": "code",
   "execution_count": 46,
   "id": "05d6fee7",
   "metadata": {},
   "outputs": [
    {
     "data": {
      "text/plain": [
       "True"
      ]
     },
     "execution_count": 46,
     "metadata": {},
     "output_type": "execute_result"
    }
   ],
   "source": [
    "user1 != user2"
   ]
  },
  {
   "cell_type": "code",
   "execution_count": 47,
   "id": "08edc269",
   "metadata": {},
   "outputs": [
    {
     "data": {
      "text/plain": [
       "{'name': 'Keith Thompson', 'email': 'keith@example.com'}"
      ]
     },
     "execution_count": 47,
     "metadata": {},
     "output_type": "execute_result"
    }
   ],
   "source": [
    "me.__dict__"
   ]
  },
  {
   "cell_type": "code",
   "execution_count": 48,
   "id": "4ccabe9e",
   "metadata": {},
   "outputs": [
    {
     "data": {
      "text/plain": [
       "{'name': 'KeVIn', 'email': 'KBACON@example.com'}"
      ]
     },
     "execution_count": 48,
     "metadata": {},
     "output_type": "execute_result"
    }
   ],
   "source": [
    "user2.__dict__"
   ]
  },
  {
   "cell_type": "markdown",
   "id": "3a2e9f4b",
   "metadata": {},
   "source": [
    "### HANDS ON"
   ]
  },
  {
   "cell_type": "code",
   "execution_count": 52,
   "id": "26dd30ac",
   "metadata": {},
   "outputs": [],
   "source": [
    "class Lead:\n",
    "    def __init__(self, name, staff_size, estimated_revenue, effort_factor):\n",
    "        self.name = name\n",
    "        self.staff_size = staff_size\n",
    "        self.estimated_revenue = estimated_revenue\n",
    "        self.effort_factor = effort_factor"
   ]
  },
  {
   "cell_type": "code",
   "execution_count": 54,
   "id": "8f21f289",
   "metadata": {},
   "outputs": [],
   "source": [
    "import math\n",
    "\n",
    "def lead_score(self):\n",
    "    return 1 / (\n",
    "        self.staff_size\n",
    "        / self.estimated_revenue\n",
    "        * (\n",
    "            10\n",
    "            **(\n",
    "                self.__digit__length(self.estimated_revenue)\n",
    "                - self.__digit__length(self.staff_size)\n",
    "            )\n",
    "        )\n",
    "        * self.effort_factor\n",
    "    )\n",
    "\n",
    "\n",
    "def __digit_length(self, num):\n",
    "    return len(str(math.floor()))"
   ]
  },
  {
   "cell_type": "code",
   "execution_count": 55,
   "id": "fdf9566f",
   "metadata": {},
   "outputs": [],
   "source": [
    "def __eq__(self, other):\n",
    "    return self.lead_score() == other.lead_score()\n",
    "\n",
    "def __ne__(self, other):\n",
    "    return self.lead_score() != other.lead_score()"
   ]
  },
  {
   "cell_type": "code",
   "execution_count": 56,
   "id": "d2932499",
   "metadata": {},
   "outputs": [],
   "source": [
    "def __lt__(self, other):\n",
    "    return self.lead_score() < other.lead_score()\n",
    "\n",
    "def __le__(self, other):\n",
    "    return self.lead_score() <= other.lead_score()\n",
    "\n",
    "def __gt__(self, other):\n",
    "    return self.lead_score() > other.lead_score()\n",
    "\n",
    "def __ge__(self, other):\n",
    "    return self.lead_score() >= other.lead_score()"
   ]
  }
 ],
 "metadata": {
  "kernelspec": {
   "display_name": "Python 3",
   "language": "python",
   "name": "python3"
  },
  "language_info": {
   "codemirror_mode": {
    "name": "ipython",
    "version": 3
   },
   "file_extension": ".py",
   "mimetype": "text/x-python",
   "name": "python",
   "nbconvert_exporter": "python",
   "pygments_lexer": "ipython3",
   "version": "3.8.8"
  }
 },
 "nbformat": 4,
 "nbformat_minor": 5
}
